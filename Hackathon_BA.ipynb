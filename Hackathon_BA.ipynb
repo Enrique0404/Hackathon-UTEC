{
  "nbformat": 4,
  "nbformat_minor": 0,
  "metadata": {
    "colab": {
      "private_outputs": true,
      "provenance": [],
      "include_colab_link": true
    },
    "kernelspec": {
      "name": "python3",
      "display_name": "Python 3"
    },
    "language_info": {
      "name": "python"
    }
  },
  "cells": [
    {
      "cell_type": "markdown",
      "metadata": {
        "id": "view-in-github",
        "colab_type": "text"
      },
      "source": [
        "<a href=\"https://colab.research.google.com/github/Enrique0404/Hackathon-UTEC/blob/main/Hackathon_BA.ipynb\" target=\"_parent\"><img src=\"https://colab.research.google.com/assets/colab-badge.svg\" alt=\"Open In Colab\"/></a>"
      ]
    },
    {
      "cell_type": "markdown",
      "source": [
        "![picture](https://drive.google.com/uc?export=view&id=1fgw5LmnIXFKvPyfNwXr4t79DIJ11Pgtk)\n"
      ],
      "metadata": {
        "id": "Jqdn_4rWOyPw"
      }
    },
    {
      "cell_type": "code",
      "execution_count": null,
      "metadata": {
        "id": "G7tW3hMjOcTm"
      },
      "outputs": [],
      "source": [
        "#importar librerias\n",
        "import pandas as pd\n",
        "import seaborn as sns\n",
        "\n",
        "#importar datos\n",
        "df = pd.read_csv('https://data.insideairbnb.com/argentina/ciudad-aut%C3%B3noma-de-buenos-aires/buenos-aires/2024-11-29/data/listings.csv.gz')"
      ]
    },
    {
      "cell_type": "code",
      "source": [
        "df"
      ],
      "metadata": {
        "id": "_5TYdJCnLx82"
      },
      "execution_count": null,
      "outputs": []
    },
    {
      "cell_type": "code",
      "source": [
        "pd.set_option('display.max_columns', None) # Esto es para poner la opción de mostrar todas las columnas\n",
        "df.head(3)"
      ],
      "metadata": {
        "id": "5nzWlmd2L69g"
      },
      "execution_count": null,
      "outputs": []
    },
    {
      "cell_type": "code",
      "source": [
        "#visualizamos columnas\n",
        "df.info()"
      ],
      "metadata": {
        "id": "d-7Yj3qyNJDN"
      },
      "execution_count": null,
      "outputs": []
    },
    {
      "cell_type": "code",
      "source": [
        "#filtramos las columnas que nos interesan\n",
        "\n",
        "df2 = df[[\"id\",\"host_id\", \"listing_url\",\"host_name\", \"host_is_superhost\", \"name\", \"neighbourhood\", \"neighbourhood_cleansed\", \"host_response_rate\",\"host_acceptance_rate\", \"latitude\", \"longitude\", \"room_type\", \"price\", \"number_of_reviews\", \"review_scores_rating\",\"has_availability\",\"availability_30\",\"calendar_last_scraped\",\"minimum_minimum_nights\",\"maximum_nights\",\"bedrooms\",\"beds\"  ]]"
      ],
      "metadata": {
        "id": "pGl7FA5wNQVh"
      },
      "execution_count": null,
      "outputs": []
    },
    {
      "cell_type": "code",
      "source": [
        "df2.head()"
      ],
      "metadata": {
        "id": "iEPN16riQFSu"
      },
      "execution_count": null,
      "outputs": []
    },
    {
      "cell_type": "code",
      "source": [
        "#Limpiamos variables como price, host_response_rate y host_acceptance_rate\n",
        "def limpiar(a):\n",
        "  return str(a).replace(\"$\",\"\").replace(\",\",\"\")\n",
        "df2[\"price\"] = df2[\"price\"].apply(limpiar)#replace(\"[$,]\", \"\")\n",
        "df2[\"host_response_rate\"] = df2[\"host_response_rate\"].str.replace(\"%\",\"\")\n",
        "df2[\"host_acceptance_rate\"] = df2[\"host_acceptance_rate\"].str.replace(\"%\",\"\")"
      ],
      "metadata": {
        "id": "S1PLPMLWRU9V"
      },
      "execution_count": null,
      "outputs": []
    },
    {
      "cell_type": "code",
      "source": [
        "df2.head()"
      ],
      "metadata": {
        "id": "ACDHpUPQRhMi"
      },
      "execution_count": null,
      "outputs": []
    },
    {
      "cell_type": "code",
      "source": [
        "#df2.dropna([],inplace=True)\n",
        "#eliminamos los datos vacios para la columana price\n",
        "df2.dropna(subset=['price'], inplace=True)"
      ],
      "metadata": {
        "id": "A_bEjlbLRyCb"
      },
      "execution_count": null,
      "outputs": []
    },
    {
      "cell_type": "code",
      "source": [
        "df2.info()"
      ],
      "metadata": {
        "id": "_gPT81vaR2jn"
      },
      "execution_count": null,
      "outputs": []
    },
    {
      "cell_type": "code",
      "source": [
        "df2.head()"
      ],
      "metadata": {
        "id": "dfY-Zj8rSmS_"
      },
      "execution_count": null,
      "outputs": []
    },
    {
      "cell_type": "markdown",
      "source": [],
      "metadata": {
        "id": "4MommCXeTVOV"
      }
    },
    {
      "cell_type": "markdown",
      "source": [],
      "metadata": {
        "id": "qgyKSnofTVFf"
      }
    },
    {
      "cell_type": "code",
      "source": [
        "#eliminamos los registros con valor de texto nan de la columna price\n",
        "df2.drop(df2[df2['price']=='nan'].index,inplace=True)"
      ],
      "metadata": {
        "id": "MBWvRLYzTNHA"
      },
      "execution_count": null,
      "outputs": []
    },
    {
      "cell_type": "code",
      "source": [
        "# Crea una nueva columna que indica si el valor es 'nan' (como texto)\n",
        "df2['is_nan_text'] = df2['price'] == 'nan'\n",
        "\n",
        "# Agrupa por esta nueva columna y cuenta los registros\n",
        "resultados = df2.groupby('is_nan_text').size().reset_index(name='count')\n",
        "\n",
        "print(resultados)\n"
      ],
      "metadata": {
        "id": "ENgrwFzHTqw7"
      },
      "execution_count": null,
      "outputs": []
    },
    {
      "cell_type": "code",
      "source": [
        "#Convertimos el precio, host_response_rate y host_acceptance_rate a float\n",
        "df2['price'] = df2['price'].astype(float)\n",
        "df2[\"host_response_rate\"] = df2['host_response_rate'].astype(float)\n",
        "df2[\"host_acceptance_rate\"] = df2['host_acceptance_rate'].astype(float)"
      ],
      "metadata": {
        "id": "59V_08OWT3w5"
      },
      "execution_count": null,
      "outputs": []
    },
    {
      "cell_type": "code",
      "source": [
        "df2.head(5)"
      ],
      "metadata": {
        "id": "W4KLdDLqUEZE"
      },
      "execution_count": null,
      "outputs": []
    },
    {
      "cell_type": "code",
      "source": [
        "#conversion de precios en pesos argentinos a dolares\n",
        "df2['Price$']=df2['price']*0.00096"
      ],
      "metadata": {
        "id": "VBU813x8X77_"
      },
      "execution_count": null,
      "outputs": []
    },
    {
      "cell_type": "code",
      "source": [
        "#generamos las estadisticas\n",
        "df2[['host_response_rate','host_acceptance_rate','price','Price$','number_of_reviews','review_scores_rating','availability_30','minimum_minimum_nights','maximum_nights','bedrooms','beds']].describe().T"
      ],
      "metadata": {
        "id": "BafJBFShTxXg"
      },
      "execution_count": null,
      "outputs": []
    },
    {
      "cell_type": "markdown",
      "source": [
        "#FILTROS PARA EL VIAJE"
      ],
      "metadata": {
        "id": "AedYA_fLdN1W"
      }
    },
    {
      "cell_type": "code",
      "source": [
        "  #PRECIO\n",
        "df2 = df2[df2['Price$']<50]\n",
        "\n",
        "  #APARTAMENTO\n",
        "df2 = df2[df2['room_type'] == 'Entire home/apt']\n",
        "\n",
        "  #N° DE DORMITORIOS Y CAMAS\n",
        "df2 = df2[df2['bedrooms']>= 2]\n",
        "df2 = df2[df2['beds']>= 3]\n",
        "\n",
        "  #DIAS DE DISPONIBILIDAD\n",
        "df2 = df2[df2['availability_30']>= 5]\n"
      ],
      "metadata": {
        "id": "cHOTfTxcdMva"
      },
      "execution_count": null,
      "outputs": []
    },
    {
      "cell_type": "code",
      "source": [
        "df2.head()"
      ],
      "metadata": {
        "id": "L-0-iBUygNDT"
      },
      "execution_count": null,
      "outputs": []
    },
    {
      "cell_type": "code",
      "source": [
        "#generamos las estadisticas DEL DATA FRAME FILTRADO\n",
        "\n",
        "df2[['host_response_rate','host_acceptance_rate','price','Price$','number_of_reviews','review_scores_rating','availability_30','minimum_minimum_nights','maximum_nights','bedrooms','beds']].describe().T"
      ],
      "metadata": {
        "id": "MFlknHsmbhcM"
      },
      "execution_count": null,
      "outputs": []
    },
    {
      "cell_type": "code",
      "source": [
        "#Estadistica visual para ver si hay outliers\n",
        "sns.boxplot(data = df2, y= \"Price$\")"
      ],
      "metadata": {
        "id": "qqPXtC1Gh1V5"
      },
      "execution_count": null,
      "outputs": []
    },
    {
      "cell_type": "markdown",
      "source": [
        "#Queda pendiente eliminar los outliers que quedaron fuera del bigote\n"
      ],
      "metadata": {
        "id": "WDYv1gIBjDJv"
      }
    },
    {
      "cell_type": "code",
      "source": [],
      "metadata": {
        "id": "TcP4gfrBjL79"
      },
      "execution_count": null,
      "outputs": []
    }
  ]
}